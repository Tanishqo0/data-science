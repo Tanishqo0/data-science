{
 "cells": [
  {
   "cell_type": "code",
   "execution_count": 11,
   "id": "85fbfdf4",
   "metadata": {},
   "outputs": [
    {
     "name": "stdout",
     "output_type": "stream",
     "text": [
      "d\n",
      "e\n",
      "f\n"
     ]
    }
   ],
   "source": [
    "a={\n",
    "    \"d\":\"10\",\n",
    "    \"e\":\"20\",\n",
    "    \"f\":\"30\",\n",
    "}\n",
    "for i in a:\n",
    "    print(i)"
   ]
  },
  {
   "cell_type": "code",
   "execution_count": 7,
   "id": "d7c3b0ae",
   "metadata": {},
   "outputs": [
    {
     "name": "stdout",
     "output_type": "stream",
     "text": [
      "h e l l o "
     ]
    }
   ],
   "source": [
    "for i in \"hello\":\n",
    "    print(i,end = \" \")"
   ]
  },
  {
   "cell_type": "code",
   "execution_count": 6,
   "id": "1a91f748",
   "metadata": {},
   "outputs": [
    {
     "name": "stdout",
     "output_type": "stream",
     "text": [
      "['red', 'blue', 'green', 'black']\n",
      "['red', 'blue', 'green', 'black']\n",
      "['red', 'blue', 'green', 'black']\n",
      "['red', 'blue', 'green', 'black']\n"
     ]
    }
   ],
   "source": [
    "#for and while loop \n",
    "#for loop -- iterating over a sequence(list,tuple,dict,string)\n",
    "\n",
    "##string\n",
    "#for i in \"hello\":\n",
    " #   print(i)\n",
    "    \n",
    "   ##list\n",
    "lst = [\"red\",\"blue\",\"green\",\"black\"]\n",
    "for i in lst:\n",
    "       print(lst) \n",
    "    "
   ]
  },
  {
   "cell_type": "code",
   "execution_count": null,
   "id": "eed0254a",
   "metadata": {},
   "outputs": [
    {
     "name": "stdout",
     "output_type": "stream",
     "text": [
      "1 red\n",
      "-----\n",
      "1 blue\n",
      "-----\n",
      "1 green\n",
      "-----\n",
      "2 red\n",
      "-----\n",
      "2 blue\n",
      "-----\n",
      "2 green\n",
      "-----\n",
      "3 red\n",
      "-----\n",
      "3 blue\n",
      "-----\n",
      "3 green\n",
      "-----\n",
      "4 red\n",
      "-----\n",
      "4 blue\n",
      "-----\n",
      "4 green\n",
      "-----\n",
      "5 red\n",
      "-----\n",
      "5 blue\n",
      "-----\n",
      "5 green\n",
      "-----\n",
      "6 red\n",
      "-----\n",
      "6 blue\n",
      "-----\n",
      "6 green\n",
      "-----\n"
     ]
    }
   ],
   "source": [
    "##nested for loop\n",
    "lst1 = [1,2,3]\n",
    "lst2 = [\"red\",\"blue\",\"green\"]\n",
    "for i in lst1:\n",
    "    for j in lst2:\n",
    "        print(i,j)\n",
    "        print(\"-----\")"
   ]
  },
  {
   "cell_type": "code",
   "execution_count": null,
   "id": "92093f3d",
   "metadata": {},
   "outputs": [
    {
     "name": "stdout",
     "output_type": "stream",
     "text": [
      "sum from 1 to 10 is:\n",
      "sum from 1 to 10 is:\n",
      "sum from 1 to 10 is:\n",
      "sum from 1 to 10 is:\n",
      "sum from 1 to 10 is:\n",
      "sum from 1 to 10 is:\n",
      "sum from 1 to 10 is:\n",
      "sum from 1 to 10 is:\n",
      "sum from 1 to 10 is:\n",
      "sum from 1 to 10 is:\n"
     ]
    }
   ],
   "source": [
    "#find the sum of number from 1 to 10 using while loop\n",
    "num = 1\n",
    "total = 0\n",
    "while num <= 10:\n",
    "    total += num\n",
    "    num += 1\n",
    "    print(\"sum from 1 to 10 is:\",.............................................................[pokoi[[[[[[[koikju0]]]]]]]])"
   ]
  },
  {
   "cell_type": "code",
   "execution_count": null,
   "id": "ad7e2fc7",
   "metadata": {},
   "outputs": [],
   "source": [
    "##while lloops\n",
    "i = 1\n",
    "while i<=10:\n",
    "    print(i)\n",
    "    "
   ]
  },
  {
   "cell_type": "code",
   "execution_count": 19,
   "id": "48f07972",
   "metadata": {},
   "outputs": [],
   "source": [
    "## pass   #this we run code without incompleteness\n",
    "for i in range(1,10):\n",
    "    pass"
   ]
  },
  {
   "cell_type": "code",
   "execution_count": 16,
   "id": "e663c539",
   "metadata": {},
   "outputs": [
    {
     "name": "stdout",
     "output_type": "stream",
     "text": [
      "[1]\n",
      "[1, 4]\n",
      "[1, 4, 9]\n",
      "[1, 4, 9, 16]\n",
      "[1, 4, 9, 16, 25]\n"
     ]
    }
   ],
   "source": [
    "##you have to square the given list and print the result in a list\n",
    "lst = [1,2,3,4,5]\n",
    "lst1 = []\n",
    "for i in lst:\n",
    "    lst1.append(i**2)\n",
    "    print(lst1)"
   ]
  },
  {
   "cell_type": "code",
   "execution_count": 14,
   "id": "b447527b",
   "metadata": {},
   "outputs": [
    {
     "name": "stdout",
     "output_type": "stream",
     "text": [
      "1\n",
      "2\n",
      "3\n",
      "4\n"
     ]
    }
   ],
   "source": [
    "##break and continue\n",
    "for i in range(1,10):\n",
    "    if i==5:\n",
    "        break\n",
    "    print(i)"
   ]
  }
 ],
 "metadata": {
  "kernelspec": {
   "display_name": "Python 3",
   "language": "python",
   "name": "python3"
  },
  "language_info": {
   "codemirror_mode": {
    "name": "ipython",
    "version": 3
   },
   "file_extension": ".py",
   "mimetype": "text/x-python",
   "name": "python",
   "nbconvert_exporter": "python",
   "pygments_lexer": "ipython3",
   "version": "3.13.1"
  }
 },
 "nbformat": 4,
 "nbformat_minor": 5
}
