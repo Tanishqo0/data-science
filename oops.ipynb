{
 "cells": [
  {
   "cell_type": "markdown",
   "id": "630ac473",
   "metadata": {},
   "source": [
    "# OOPS"
   ]
  },
  {
   "cell_type": "code",
   "execution_count": null,
   "id": "6ab4e02a",
   "metadata": {},
   "outputs": [],
   "source": [
    "## class , object , method\n",
    "## 4 type of oops\n",
    "## inheritance --- single , multiple , multilevel , hyperarchial , hybrid\n",
    "##  , polymorphism , "
   ]
  },
  {
   "cell_type": "code",
   "execution_count": null,
   "id": "c205ddff",
   "metadata": {},
   "outputs": [],
   "source": [
    "## class - blueprint of object \n",
    "## object - instance of class"
   ]
  },
  {
   "cell_type": "code",
   "execution_count": 3,
   "id": "9a3d1810",
   "metadata": {},
   "outputs": [
    {
     "data": {
      "text/plain": [
       "('abc', 'abc')"
      ]
     },
     "execution_count": 3,
     "metadata": {},
     "output_type": "execute_result"
    }
   ],
   "source": [
    "class car:\n",
    "    ##class variable\n",
    "    num1 = 10\n",
    "    num2 = 20\n",
    "    name = \"abc\"\n",
    "    model = \"abc\"\n",
    "    #function vs method\n",
    "    #self   ()\n",
    "    def add(self):\n",
    "        return self.num1 + self.num2\n",
    "    \n",
    "    def display(self):\n",
    "        return self.name , self.model\n",
    "    \n",
    "#obj ==\n",
    "obj = car()\n",
    "obj.display()"
   ]
  },
  {
   "cell_type": "code",
   "execution_count": null,
   "id": "2b1a9215",
   "metadata": {},
   "outputs": [
    {
     "data": {
      "text/plain": [
       "('aman', 50)"
      ]
     },
     "execution_count": 7,
     "metadata": {},
     "output_type": "execute_result"
    }
   ],
   "source": [
    "##init -- constructor -- intitialize the variable \n",
    "class animal:\n",
    "    name=\"hello\"\n",
    "    age=55\n",
    "    # def __init__(self,name,age):\n",
    "    #     self.name = name\n",
    "    #     self.age = age\n",
    "    \n",
    "    def getdata(self,name,age):\n",
    "        self.name=name\n",
    "        self.age=age\n",
    "    def showdata(self):\n",
    "        return self.name,self.age\n",
    "        \n",
    "obj = animal()\n",
    "obj.getdata(name=input(\"Enter name : \"),age=int(input(\"Enter age : \")))\n",
    "obj.showdata()"
   ]
  },
  {
   "cell_type": "code",
   "execution_count": 9,
   "id": "84bd3e8d",
   "metadata": {},
   "outputs": [
    {
     "data": {
      "text/plain": [
       "('tanishq', 21)"
      ]
     },
     "execution_count": 9,
     "metadata": {},
     "output_type": "execute_result"
    }
   ],
   "source": [
    "##init -- constructor -- intitialize the variable \n",
    "class animal:\n",
    "    def __init__(self,name,age):\n",
    "        self.name = name\n",
    "        self.age = age\n",
    "     \n",
    "    def display(self):\n",
    "        return self.name , self.age\n",
    "    \n",
    "# obj = animal(\"lion\",10)\n",
    "obj = animal(name=input(\"Enter name : \"), age = int(input(\"Enter age : \")))\n",
    "obj.display()        "
   ]
  },
  {
   "cell_type": "code",
   "execution_count": 9,
   "id": "3b3d2bd0",
   "metadata": {},
   "outputs": [
    {
     "name": "stdout",
     "output_type": "stream",
     "text": [
      "car\n",
      "bike\n"
     ]
    }
   ],
   "source": [
    "## inheritance --- single , multiple , multilevel , hyerarchial , hybrid\n",
    "\n",
    "# single inheritance\n",
    "class car:\n",
    "    def display(self):\n",
    "        return \"car\"\n",
    "class bike(car):\n",
    "        def show(self):\n",
    "            return \"bike\"\n",
    "        \n",
    "obj = bike()\n",
    "print(obj.display())\n",
    "print(obj.show())    "
   ]
  },
  {
   "cell_type": "code",
   "execution_count": 11,
   "id": "ab8e195c",
   "metadata": {},
   "outputs": [
    {
     "data": {
      "text/plain": [
       "'abc'"
      ]
     },
     "execution_count": 11,
     "metadata": {},
     "output_type": "execute_result"
    }
   ],
   "source": [
    "class person:\n",
    "    def __init__(self,name):\n",
    "        self.name = name\n",
    "        \n",
    "    def show(self):\n",
    "        return self.name    \n",
    "        \n",
    "class employee(person):\n",
    "    def __init__(self,name,salary):\n",
    "        super().__init__(name)\n",
    "        self.salary = salary  \n",
    "        \n",
    "obj = employee(\"abc\",100)\n",
    "obj.show()     "
   ]
  },
  {
   "cell_type": "code",
   "execution_count": 12,
   "id": "bd4d5897",
   "metadata": {},
   "outputs": [
    {
     "data": {
      "text/plain": [
       "'abc'"
      ]
     },
     "execution_count": 12,
     "metadata": {},
     "output_type": "execute_result"
    }
   ],
   "source": [
    "class person:\n",
    "    def __init__(self,name):\n",
    "        self.name = name\n",
    "        \n",
    "    def show(self):\n",
    "        return self.name    \n",
    "        \n",
    "class employee(person):\n",
    "    def __init__(self,name,salary):\n",
    "        super().__init__(name)\n",
    "        self.salary = salary  \n",
    "\n",
    "class job:\n",
    "    def __init__(self,salary):\n",
    "        self.salary = salary\n",
    "\n",
    "class employeepersonjob(employee,job):\n",
    "    def __init__(self, name, salary):\n",
    "        employee().__init__(self,name, salary)   \n",
    "        job.__init__(self,salary)  \n",
    "             \n",
    "obj = employee(\"abc\",100)\n",
    "obj.show()     "
   ]
  },
  {
   "cell_type": "markdown",
   "id": "74447958",
   "metadata": {},
   "source": [
    "# multilevel -- a ---- b --- c\n"
   ]
  },
  {
   "cell_type": "markdown",
   "id": "7dac31fc",
   "metadata": {},
   "source": [
    "## polymorphism --- many forms --- the same function or method behave differently based \n",
    "\n",
    "#on the input"
   ]
  },
  {
   "cell_type": "code",
   "execution_count": 16,
   "id": "7171f079",
   "metadata": {},
   "outputs": [
    {
     "name": "stdout",
     "output_type": "stream",
     "text": [
      "meow\n",
      "bark\n"
     ]
    }
   ],
   "source": [
    "class cat:\n",
    "    def sound(self):\n",
    "        return\"meow\"\n",
    "    \n",
    "class dog:\n",
    "    def sound(self):\n",
    "        return \"bark\"\n",
    "    \n",
    "def make_sound(animal):\n",
    "    return animal.sound()\n",
    "  \n",
    "cat = cat()\n",
    "dog = dog()   \n",
    "\n",
    "print(make_sound(cat))\n",
    "print(make_sound(dog))\n",
    "     "
   ]
  },
  {
   "cell_type": "code",
   "execution_count": 7,
   "id": "654b632d",
   "metadata": {},
   "outputs": [
    {
     "name": "stdout",
     "output_type": "stream",
     "text": [
      "16.0\n",
      "16.0\n"
     ]
    }
   ],
   "source": [
    "class square:\n",
    "    def area(self):\n",
    "        a=float(input(\"enter the side \"))\n",
    "        return a*a\n",
    "    \n",
    "class rectangle:\n",
    "    def area(self):\n",
    "        l =float(input(\"enter the side \"))\n",
    "        b=float(input(\"enter the side \"))\n",
    "        return l*b\n",
    "    \n",
    "def print_area(shape):\n",
    "    return shape.area()\n",
    "  \n",
    "square = square()\n",
    "rectangle = rectangle()   \n",
    "\n",
    "print(print_area(rectangle))\n",
    "print(print_area(square))\n",
    "     "
   ]
  },
  {
   "cell_type": "markdown",
   "id": "3ad210cb",
   "metadata": {},
   "source": [
    "# encapsulation"
   ]
  },
  {
   "cell_type": "code",
   "execution_count": null,
   "id": "7fd021d7",
   "metadata": {},
   "outputs": [],
   "source": [
    "## it means hiding the internal details of a class and \n",
    "## protecting data from being access or modified directly by the outside world\n",
    "## we can do it by using private and protected variable  \n",
    "## private variable -- __name\n",
    "## cannot be accessible outside the class\n",
    "\n",
    "## protected variable -- __name\n",
    "## it can be accessible inside the class and its subclasses"
   ]
  },
  {
   "cell_type": "code",
   "execution_count": 10,
   "id": "ee63a9e3",
   "metadata": {},
   "outputs": [
    {
     "data": {
      "text/plain": [
       "50"
      ]
     },
     "execution_count": 10,
     "metadata": {},
     "output_type": "execute_result"
    }
   ],
   "source": [
    "class student:\n",
    "    def __init__(self,name,marks):\n",
    "        self.name = name\n",
    "        self.__marks = marks\n",
    "        \n",
    "    def get_marks(self):\n",
    "        return self.__marks\n",
    "    \n",
    "    def set_marks(self,marks):\n",
    "        if 0 <= marks <= 100:\n",
    "            self.__marks = marks\n",
    "        else:\n",
    "            print(\"Invalid marks\")   \n",
    "            \n",
    "s = student(\"abc\",50)\n",
    "## name mangling\n",
    "s._student__marks                 "
   ]
  },
  {
   "cell_type": "code",
   "execution_count": null,
   "id": "6beec5c2",
   "metadata": {},
   "outputs": [],
   "source": []
  }
 ],
 "metadata": {
  "kernelspec": {
   "display_name": "Python 3",
   "language": "python",
   "name": "python3"
  },
  "language_info": {
   "codemirror_mode": {
    "name": "ipython",
    "version": 3
   },
   "file_extension": ".py",
   "mimetype": "text/x-python",
   "name": "python",
   "nbconvert_exporter": "python",
   "pygments_lexer": "ipython3",
   "version": "3.13.1"
  }
 },
 "nbformat": 4,
 "nbformat_minor": 5
}
