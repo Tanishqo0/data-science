{
 "cells": [
  {
   "cell_type": "code",
   "execution_count": null,
   "id": "efbf51f2",
   "metadata": {},
   "outputs": [],
   "source": [
    "## lambda function --- small anonymous functions\n",
    "## lambda arguments : expression"
   ]
  },
  {
   "cell_type": "code",
   "execution_count": 1,
   "id": "34be6dbc",
   "metadata": {},
   "outputs": [
    {
     "data": {
      "text/plain": [
       "15"
      ]
     },
     "execution_count": 1,
     "metadata": {},
     "output_type": "execute_result"
    }
   ],
   "source": [
    "x = lambda a : a + 10\n",
    "x(5)"
   ]
  },
  {
   "cell_type": "code",
   "execution_count": null,
   "id": "a9fd66a3",
   "metadata": {},
   "outputs": [
    {
     "data": {
      "text/plain": [
       "50000"
      ]
     },
     "execution_count": 5,
     "metadata": {},
     "output_type": "execute_result"
    }
   ],
   "source": [
    "#  multiple parameter\n",
    "x = lambda a,b : a + b\n",
    "x(5,10000)"
   ]
  },
  {
   "cell_type": "code",
   "execution_count": 18,
   "id": "be13cc53",
   "metadata": {},
   "outputs": [
    {
     "name": "stdout",
     "output_type": "stream",
     "text": [
      "<map object at 0x000001E583E18BE0>\n"
     ]
    }
   ],
   "source": [
    "## map\n",
    "def sq(num):\n",
    "    return num*num\n",
    "lst = [1,2,3,4,5]\n",
    "result = map(sq,lst)\n",
    "print(result)"
   ]
  },
  {
   "cell_type": "code",
   "execution_count": null,
   "id": "def5fbe5",
   "metadata": {},
   "outputs": [
    {
     "name": "stdout",
     "output_type": "stream",
     "text": [
      "[1, 4, 9, 16, 25]\n"
     ]
    }
   ],
   "source": [
    "## map --- map(function,iterable)\n",
    "def sq(num):\n",
    "    return num*num\n",
    "lst = [1,2,3,4,5]\n",
    "result = map(sq,lst)\n",
    "print(list(result))"
   ]
  },
  {
   "cell_type": "code",
   "execution_count": null,
   "id": "94040dde",
   "metadata": {},
   "outputs": [
    {
     "name": "stdout",
     "output_type": "stream",
     "text": [
      "[1, 4, 9, 16]\n"
     ]
    }
   ],
   "source": [
    "## short form (using lambda function)\n",
    "\n",
    "numbers = [1, 2, 3, 4 , 5]\n",
    "result = map(lambda num: num * num, numbers)\n",
    "print(list(result))\n"
   ]
  },
  {
   "cell_type": "code",
   "execution_count": 21,
   "id": "f07add03",
   "metadata": {},
   "outputs": [
    {
     "name": "stdout",
     "output_type": "stream",
     "text": [
      "[2, 4]\n"
     ]
    }
   ],
   "source": [
    "## filter --- filter(function,iterable)\n",
    "lst = [1,2,3,4,5]\n",
    "result = filter(lambda num : num%2==0,lst)\n",
    "print(list(result))"
   ]
  },
  {
   "cell_type": "code",
   "execution_count": 28,
   "id": "678015a2",
   "metadata": {},
   "outputs": [
    {
     "name": "stdout",
     "output_type": "stream",
     "text": [
      "21\n"
     ]
    }
   ],
   "source": [
    "##reduce\n",
    "from functools import reduce\n",
    "lst = [1,2,3,4,5,6]\n",
    "result = reduce(lambda num1,num2 : num1+num2,lst)\n",
    "print(result)\n",
    "\n",
    "##from left to right \n",
    "# [3,3,4,5] -- [6,4,5] -- [10,5] -- [15]"
   ]
  },
  {
   "cell_type": "code",
   "execution_count": null,
   "id": "8b8e2bd0",
   "metadata": {},
   "outputs": [
    {
     "name": "stdout",
     "output_type": "stream",
     "text": [
      "[(0, 'mohan'), (1, 'rohan'), (2, 'ram')]\n"
     ]
    }
   ],
   "source": [
    "## enumerate    (finding index number)\n",
    "lst = [\"mohan\",\"rohan\",\"ram\"]\n",
    "result = enumerate(lst)\n",
    "print(list(result))"
   ]
  },
  {
   "cell_type": "code",
   "execution_count": null,
   "id": "d00eb1a6",
   "metadata": {},
   "outputs": [
    {
     "name": "stdout",
     "output_type": "stream",
     "text": [
      "[(10, 'mohan'), (11, 'rohan'), (12, 'ram')]\n"
     ]
    }
   ],
   "source": [
    "## enumerate    \n",
    "lst = [\"mohan\",\"rohan\",\"ram\"]\n",
    "result = enumerate(lst,start=10)\n",
    "print(list(result))"
   ]
  },
  {
   "cell_type": "code",
   "execution_count": 31,
   "id": "222d30c0",
   "metadata": {},
   "outputs": [
    {
     "name": "stdout",
     "output_type": "stream",
     "text": [
      "[('mohan', 1), ('rohan', 2), ('ram', 3)]\n"
     ]
    }
   ],
   "source": [
    "## zip function -- it is used to combime two or more iterables\n",
    "lst1 = [\"mohan\",\"rohan\",\"ram\"]\n",
    "lst2 = [1,2,3]\n",
    "result = zip(lst1,lst2)\n",
    "print(list(result))"
   ]
  },
  {
   "cell_type": "code",
   "execution_count": 35,
   "id": "56b435ed",
   "metadata": {},
   "outputs": [
    {
     "name": "stdout",
     "output_type": "stream",
     "text": [
      "[('mohan', 1), ('rohan', 2)]\n"
     ]
    }
   ],
   "source": [
    "## zip function -- \n",
    "lst1 = [\"mohan\",\"rohan\",\"ram\"]\n",
    "lst2 = [1,2]\n",
    "result = zip(lst1,lst2)\n",
    "print(list(result))"
   ]
  },
  {
   "cell_type": "code",
   "execution_count": null,
   "id": "76817570",
   "metadata": {},
   "outputs": [
    {
     "name": "stdout",
     "output_type": "stream",
     "text": [
      "{'mohan': 1, 'rohan': 2, 'ram': 3}\n"
     ]
    }
   ],
   "source": [
    "## zip function -- using dict**\n",
    "lst1 = [\"mohan\",\"rohan\",\"ram\"]\n",
    "lst2 = [1,2,3]\n",
    "result = dict(zip(lst1,lst2))\n",
    "print(list(result))"
   ]
  },
  {
   "cell_type": "code",
   "execution_count": 33,
   "id": "15e1afb2",
   "metadata": {},
   "outputs": [
    {
     "name": "stdout",
     "output_type": "stream",
     "text": [
      "['mohan', 'rohan']\n",
      "[1, 2]\n"
     ]
    }
   ],
   "source": [
    "zipped = [('mohan', 1), ('rohan', 2)]\n",
    "result , number = zip(*zipped)\n",
    "print(list(result))\n",
    "print(list(number))\n"
   ]
  },
  {
   "cell_type": "code",
   "execution_count": null,
   "id": "bf2e3e00",
   "metadata": {},
   "outputs": [],
   "source": []
  }
 ],
 "metadata": {
  "kernelspec": {
   "display_name": "Python 3",
   "language": "python",
   "name": "python3"
  },
  "language_info": {
   "codemirror_mode": {
    "name": "ipython",
    "version": 3
   },
   "file_extension": ".py",
   "mimetype": "text/x-python",
   "name": "python",
   "nbconvert_exporter": "python",
   "pygments_lexer": "ipython3",
   "version": "3.13.1"
  }
 },
 "nbformat": 4,
 "nbformat_minor": 5
}
